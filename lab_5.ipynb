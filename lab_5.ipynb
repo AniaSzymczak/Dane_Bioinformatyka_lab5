{
  "nbformat": 4,
  "nbformat_minor": 0,
  "metadata": {
    "colab": {
      "provenance": [],
      "include_colab_link": true
    },
    "kernelspec": {
      "name": "python3",
      "display_name": "Python 3"
    },
    "language_info": {
      "name": "python"
    }
  },
  "cells": [
    {
      "cell_type": "markdown",
      "metadata": {
        "id": "view-in-github",
        "colab_type": "text"
      },
      "source": [
        "<a href=\"https://colab.research.google.com/github/AniaSzymczak/Dane_Bioinformatyka_lab5/blob/main/lab_5.ipynb\" target=\"_parent\"><img src=\"https://colab.research.google.com/assets/colab-badge.svg\" alt=\"Open In Colab\"/></a>"
      ]
    },
    {
      "cell_type": "code",
      "source": [
        "!apt-get install git\n",
        "!git clone https://github.com/AniaSzymczak/Dane_Bioinformatyka_lab5.git"
      ],
      "metadata": {
        "colab": {
          "base_uri": "https://localhost:8080/"
        },
        "collapsed": true,
        "id": "4CXAyfb7YfRB",
        "outputId": "901f7587-2d67-4abd-d4f2-afd0adb6d0b2"
      },
      "execution_count": null,
      "outputs": [
        {
          "output_type": "stream",
          "name": "stdout",
          "text": [
            "Reading package lists... Done\n",
            "Building dependency tree... Done\n",
            "Reading state information... Done\n",
            "git is already the newest version (1:2.34.1-1ubuntu1.11).\n",
            "0 upgraded, 0 newly installed, 0 to remove and 49 not upgraded.\n",
            "Cloning into 'Dane_Bioinformatyka_lab5'...\n",
            "remote: Enumerating objects: 12, done.\u001b[K\n",
            "remote: Counting objects: 100% (12/12), done.\u001b[K\n",
            "remote: Compressing objects: 100% (11/11), done.\u001b[K\n",
            "remote: Total 12 (delta 4), reused 3 (delta 0), pack-reused 0 (from 0)\u001b[K\n",
            "Receiving objects: 100% (12/12), 368.15 KiB | 1.32 MiB/s, done.\n",
            "Resolving deltas: 100% (4/4), done.\n"
          ]
        }
      ]
    },
    {
      "cell_type": "code",
      "source": [
        "!pip install Bio"
      ],
      "metadata": {
        "colab": {
          "base_uri": "https://localhost:8080/"
        },
        "collapsed": true,
        "id": "9XNc450fxnTO",
        "outputId": "6cf217ac-8405-4456-d1bb-2afea2a075d1"
      },
      "execution_count": null,
      "outputs": [
        {
          "output_type": "stream",
          "name": "stdout",
          "text": [
            "Collecting Bio\n",
            "  Downloading bio-1.7.1-py3-none-any.whl.metadata (5.7 kB)\n",
            "Collecting biopython>=1.80 (from Bio)\n",
            "  Downloading biopython-1.84-cp310-cp310-manylinux_2_17_x86_64.manylinux2014_x86_64.whl.metadata (12 kB)\n",
            "Collecting gprofiler-official (from Bio)\n",
            "  Downloading gprofiler_official-1.0.0-py3-none-any.whl.metadata (11 kB)\n",
            "Collecting mygene (from Bio)\n",
            "  Downloading mygene-3.2.2-py2.py3-none-any.whl.metadata (10 kB)\n",
            "Requirement already satisfied: pandas in /usr/local/lib/python3.10/dist-packages (from Bio) (2.2.2)\n",
            "Requirement already satisfied: pooch in /usr/local/lib/python3.10/dist-packages (from Bio) (1.8.2)\n",
            "Requirement already satisfied: requests in /usr/local/lib/python3.10/dist-packages (from Bio) (2.32.3)\n",
            "Requirement already satisfied: tqdm in /usr/local/lib/python3.10/dist-packages (from Bio) (4.67.1)\n",
            "Requirement already satisfied: numpy in /usr/local/lib/python3.10/dist-packages (from biopython>=1.80->Bio) (1.26.4)\n",
            "Collecting biothings-client>=0.2.6 (from mygene->Bio)\n",
            "  Downloading biothings_client-0.4.0-py3-none-any.whl.metadata (10 kB)\n",
            "Requirement already satisfied: python-dateutil>=2.8.2 in /usr/local/lib/python3.10/dist-packages (from pandas->Bio) (2.8.2)\n",
            "Requirement already satisfied: pytz>=2020.1 in /usr/local/lib/python3.10/dist-packages (from pandas->Bio) (2024.2)\n",
            "Requirement already satisfied: tzdata>=2022.7 in /usr/local/lib/python3.10/dist-packages (from pandas->Bio) (2024.2)\n",
            "Requirement already satisfied: platformdirs>=2.5.0 in /usr/local/lib/python3.10/dist-packages (from pooch->Bio) (4.3.6)\n",
            "Requirement already satisfied: packaging>=20.0 in /usr/local/lib/python3.10/dist-packages (from pooch->Bio) (24.2)\n",
            "Requirement already satisfied: charset-normalizer<4,>=2 in /usr/local/lib/python3.10/dist-packages (from requests->Bio) (3.4.1)\n",
            "Requirement already satisfied: idna<4,>=2.5 in /usr/local/lib/python3.10/dist-packages (from requests->Bio) (3.10)\n",
            "Requirement already satisfied: urllib3<3,>=1.21.1 in /usr/local/lib/python3.10/dist-packages (from requests->Bio) (2.3.0)\n",
            "Requirement already satisfied: certifi>=2017.4.17 in /usr/local/lib/python3.10/dist-packages (from requests->Bio) (2024.12.14)\n",
            "Requirement already satisfied: httpx>=0.22.0 in /usr/local/lib/python3.10/dist-packages (from biothings-client>=0.2.6->mygene->Bio) (0.28.1)\n",
            "Requirement already satisfied: six>=1.5 in /usr/local/lib/python3.10/dist-packages (from python-dateutil>=2.8.2->pandas->Bio) (1.17.0)\n",
            "Requirement already satisfied: anyio in /usr/local/lib/python3.10/dist-packages (from httpx>=0.22.0->biothings-client>=0.2.6->mygene->Bio) (3.7.1)\n",
            "Requirement already satisfied: httpcore==1.* in /usr/local/lib/python3.10/dist-packages (from httpx>=0.22.0->biothings-client>=0.2.6->mygene->Bio) (1.0.7)\n",
            "Requirement already satisfied: h11<0.15,>=0.13 in /usr/local/lib/python3.10/dist-packages (from httpcore==1.*->httpx>=0.22.0->biothings-client>=0.2.6->mygene->Bio) (0.14.0)\n",
            "Requirement already satisfied: sniffio>=1.1 in /usr/local/lib/python3.10/dist-packages (from anyio->httpx>=0.22.0->biothings-client>=0.2.6->mygene->Bio) (1.3.1)\n",
            "Requirement already satisfied: exceptiongroup in /usr/local/lib/python3.10/dist-packages (from anyio->httpx>=0.22.0->biothings-client>=0.2.6->mygene->Bio) (1.2.2)\n",
            "Downloading bio-1.7.1-py3-none-any.whl (280 kB)\n",
            "\u001b[2K   \u001b[90m━━━━━━━━━━━━━━━━━━━━━━━━━━━━━━━━━━━━━━━━\u001b[0m \u001b[32m281.0/281.0 kB\u001b[0m \u001b[31m7.5 MB/s\u001b[0m eta \u001b[36m0:00:00\u001b[0m\n",
            "\u001b[?25hDownloading biopython-1.84-cp310-cp310-manylinux_2_17_x86_64.manylinux2014_x86_64.whl (3.2 MB)\n",
            "\u001b[2K   \u001b[90m━━━━━━━━━━━━━━━━━━━━━━━━━━━━━━━━━━━━━━━━\u001b[0m \u001b[32m3.2/3.2 MB\u001b[0m \u001b[31m62.4 MB/s\u001b[0m eta \u001b[36m0:00:00\u001b[0m\n",
            "\u001b[?25hDownloading gprofiler_official-1.0.0-py3-none-any.whl (9.3 kB)\n",
            "Downloading mygene-3.2.2-py2.py3-none-any.whl (5.4 kB)\n",
            "Downloading biothings_client-0.4.0-py3-none-any.whl (44 kB)\n",
            "\u001b[2K   \u001b[90m━━━━━━━━━━━━━━━━━━━━━━━━━━━━━━━━━━━━━━━━\u001b[0m \u001b[32m44.9/44.9 kB\u001b[0m \u001b[31m3.3 MB/s\u001b[0m eta \u001b[36m0:00:00\u001b[0m\n",
            "\u001b[?25hInstalling collected packages: biopython, gprofiler-official, biothings-client, mygene, Bio\n",
            "Successfully installed Bio-1.7.1 biopython-1.84 biothings-client-0.4.0 gprofiler-official-1.0.0 mygene-3.2.2\n"
          ]
        }
      ]
    },
    {
      "cell_type": "code",
      "source": [
        "!pip install numpy"
      ],
      "metadata": {
        "colab": {
          "base_uri": "https://localhost:8080/"
        },
        "id": "SGC_zo7ibG_c",
        "outputId": "52ea982c-fc53-4018-bac9-2987670ff08f",
        "collapsed": true
      },
      "execution_count": null,
      "outputs": [
        {
          "output_type": "stream",
          "name": "stdout",
          "text": [
            "Requirement already satisfied: numpy in /usr/local/lib/python3.10/dist-packages (1.26.4)\n"
          ]
        }
      ]
    },
    {
      "cell_type": "code",
      "source": [
        "import os\n",
        "os.chdir(\"/content/Dane_Bioinformatyka_lab5\")"
      ],
      "metadata": {
        "id": "eSxzfk1XhtU8"
      },
      "execution_count": null,
      "outputs": []
    },
    {
      "cell_type": "code",
      "source": [
        "from Bio.PDB import MMCIFParser, PDBIO\n",
        "from Bio.PDB.Superimposer import Superimposer\n",
        "from numpy import array\n",
        "import numpy as np\n",
        "\n",
        "def calculate_rmsd(coord1, coord2):\n",
        "  diff = coord1 - coord2\n",
        "  result = np.sqrt(np.sum(np.square(diff) / len(coord1)))\n",
        "  return result\n",
        "\n",
        "parser = MMCIFParser(QUIET=True)\n",
        "structure_ref = parser.get_structure(\"model_ref.cif\",\"model_ref.cif\")\n",
        "\n",
        "def get_ca_atoms(structure):\n",
        "  ca_atoms = []\n",
        "  ids = []\n",
        "  for model in structure:\n",
        "    for chain in model:\n",
        "      for residue in chain:\n",
        "        if residue.has_id(\"CA\") and residue.has_id(\"N\") and residue.has_id(\"C\"):\n",
        "          ca_atoms.append(residue[\"CA\"])\n",
        "          ca_atoms.append(residue[\"N\"])\n",
        "          ca_atoms.append(residue[\"C\"])\n",
        "          ids.append(residue.id)\n",
        "  return np.array(ca_atoms), ids\n",
        "\n",
        "\n",
        "atoms_ref, ids_ref = get_ca_atoms(structure_ref)\n",
        "\n",
        "super_imposer = Superimposer()\n",
        "for i in range(5):\n",
        "  common_atoms_ref = []\n",
        "  common_atoms = []\n",
        "  structure = parser.get_structure(f\"model_{i}.cif\",f\"model_{i}.cif\")\n",
        "  atoms, ids = get_ca_atoms(structure)\n",
        "  for ref_atom, ref_id in zip(atoms_ref, ids_ref):\n",
        "    if ref_id in ids:\n",
        "      idx = ids.index(ref_id)\n",
        "      common_atoms_ref.append(ref_atom)\n",
        "      common_atoms.append(atoms[idx])\n",
        "\n",
        "  super_imposer.set_atoms(common_atoms_ref, common_atoms)\n",
        "  super_imposer.apply(structure.get_atoms())\n",
        "  rmsd = calculate_rmsd(array(common_atoms_ref), array(common_atoms))\n",
        "  print(f\"RMSD dla modelu {i}: {round(rmsd,4)}\")\n",
        "  io = PDBIO()\n",
        "  io.set_structure(structure)\n",
        "  with open(f\"output_{i}.pdb\", \"w\") as file:\n",
        "    io.save(file)\n",
        "    print(f\"Zapisano zmodyfikowany model {i} do output_{i}.pdb\")"
      ],
      "metadata": {
        "colab": {
          "base_uri": "https://localhost:8080/"
        },
        "id": "ttwuGO6UxdzI",
        "outputId": "7b8a1afe-accf-475f-dfd0-9d0e01b36025"
      },
      "execution_count": null,
      "outputs": [
        {
          "output_type": "stream",
          "name": "stdout",
          "text": [
            "RMSD dla modelu 0: 0.408\n",
            "Zapisano zmodyfikowany model 0 do output_0.pdb\n",
            "RMSD dla modelu 1: 0.4443\n",
            "Zapisano zmodyfikowany model 1 do output_1.pdb\n",
            "RMSD dla modelu 2: 0.4422\n",
            "Zapisano zmodyfikowany model 2 do output_2.pdb\n",
            "RMSD dla modelu 3: 0.4154\n",
            "Zapisano zmodyfikowany model 3 do output_3.pdb\n",
            "RMSD dla modelu 4: 0.4026\n",
            "Zapisano zmodyfikowany model 4 do output_4.pdb\n"
          ]
        }
      ]
    },
    {
      "cell_type": "markdown",
      "source": [
        "Najlepsze RMSD: output_4.pdb\n",
        "Najgorsze RMSD: output_1.pdb\n",
        "<\n"
      ],
      "metadata": {
        "id": "_zwnpD8FnLS-"
      }
    },
    {
      "cell_type": "markdown",
      "source": [
        "Zadanie 4"
      ],
      "metadata": {
        "id": "TAo8NSPS7NqD"
      }
    },
    {
      "cell_type": "code",
      "source": [
        "from Bio.PDB import MMCIFParser, PDBIO\n",
        "from Bio.PDB.Superimposer import Superimposer\n",
        "import matplotlib.pyplot as plt\n",
        "import numpy as np\n",
        "\n",
        "def calculate_gdt_ts(atoms_ref, atoms, threshold=1.0):\n",
        "    ref_coords = np.array([atom.coord for atom in atoms_ref])\n",
        "    pred_coords = np.array([atom.coord for atom in atoms])\n",
        "    distances = np.linalg.norm(ref_coords - pred_coords, axis=1)\n",
        "    gdt_scores = []\n",
        "    gdt_scores.append (np.sum(distances <= threshold) / len(atoms_ref))\n",
        "    gdt = gdt_scores[0] * 100\n",
        "    return gdt\n",
        "\n",
        "parser = MMCIFParser(QUIET=True)\n",
        "structure_ref = parser.get_structure(\"reference\", \"model_ref.cif\")\n",
        "\n",
        "def get_ca_atoms(structure):\n",
        "    ca_atoms = []\n",
        "    ids = []\n",
        "    for model in structure:\n",
        "        for chain in model:\n",
        "            for residue in chain:\n",
        "                if residue.has_id(\"CA\"):\n",
        "                    ca_atoms.append(residue[\"CA\"])\n",
        "                    ids.append(residue.id)\n",
        "    return ca_atoms, ids\n",
        "\n",
        "atoms_ref, ids_ref = get_ca_atoms(structure_ref)\n",
        "all_results = []\n",
        "super_imposer = Superimposer()\n",
        "\n",
        "for i in range(5):\n",
        "    common_atoms_ref = []\n",
        "    common_atoms = []\n",
        "    structure = parser.get_structure(f\"model_{i}\", f\"model_{i}.cif\")\n",
        "    atoms, ids = get_ca_atoms(structure)\n",
        "\n",
        "    for ref_atom, ref_id in zip(atoms_ref, ids_ref):\n",
        "        if ref_id in ids:\n",
        "            idx = ids.index(ref_id)\n",
        "            common_atoms_ref.append(ref_atom)\n",
        "            common_atoms.append(atoms[idx])\n",
        "\n",
        "    super_imposer.set_atoms(common_atoms_ref, common_atoms)\n",
        "    # super_imposer.apply([atom for atom in structure.get_atoms()])\n",
        "    super_imposer.apply(structure.get_atoms())\n",
        "\n",
        "\n",
        "    results = calculate_gdt_ts(common_atoms_ref, common_atoms)\n",
        "    all_results.append(results)\n",
        "\n",
        "def plot_gdt_ts_scores(all_results):\n",
        "    plt.figure(figsize=(10, 6))\n",
        "    plt.bar(range(len(all_results)), all_results, color=\"green\")\n",
        "    plt.xlabel(\"Model\")\n",
        "    plt.ylabel(\"GDT_TS Score\")\n",
        "    plt.title(\"GDT_TS Scores for Models\")\n",
        "    plt.show()\n",
        "\n",
        "plot_gdt_ts_scores(all_results)"
      ],
      "metadata": {
        "colab": {
          "base_uri": "https://localhost:8080/",
          "height": 564
        },
        "id": "WNbWC_hs7TTv",
        "outputId": "039ceea1-59e3-4f81-a87a-ca47f9753034"
      },
      "execution_count": null,
      "outputs": [
        {
          "output_type": "display_data",
          "data": {
            "text/plain": [
              "<Figure size 1000x600 with 1 Axes>"
            ],
            "image/png": "[encoded data removed]"
          },
          "metadata": {}
        }
      ]
    },
    {
      "cell_type": "markdown",
      "source": [
        "Zadanie 5"
      ],
      "metadata": {
        "id": "CzCpwQCI7fNI"
      }
    },
    {
      "cell_type": "code",
      "source": [
        "from Bio.PDB import PDBParser\n",
        "import math\n",
        "\n",
        "\n",
        "def calculate_distance(atom1, atom2):\n",
        "    coord1 = atom1.get_coord()\n",
        "    coord2 = atom2.get_coord()\n",
        "    return math.sqrt(sum((coord1 - coord2) ** 2))\n",
        "\n",
        "def is_backbone(atom_name):\n",
        "    return atom_name in { 'N','CA', 'C','H'}\n",
        "\n",
        "def get_vdw_radius(atom):\n",
        "    vdw_radii = {\n",
        "        'H': 1.20, 'C': 1.70, 'N': 1.55, 'O': 1.52, 'S': 1.80, 'P': 1.80\n",
        "    }\n",
        "    element = atom.element\n",
        "    return vdw_radii.get(element, 1)\n",
        "\n",
        "def clash_score(structure):\n",
        "    atoms = []\n",
        "    for model in structure:\n",
        "        for chain in model:\n",
        "            residues = list(chain)\n",
        "            for i, residue in enumerate(residues):\n",
        "                if residue.id[0] != ' ':\n",
        "                    continue\n",
        "                for atom in residue:\n",
        "                    if not is_backbone(atom.get_name()):\n",
        "                        atoms.append((residue, atom))\n",
        "    score = 0\n",
        "    num_atoms = len(atoms)\n",
        "    for i in range(num_atoms):\n",
        "        res1, atom1 = atoms[i]\n",
        "        for j in range(i + 1, num_atoms):\n",
        "            res2, atom2 = atoms[j]\n",
        "            if abs(res1.get_id()[1] - res2.get_id()[1]) <= 1:\n",
        "                continue\n",
        "            if (atom1.get_name() == 'N' and atom2.get_name() == 'CA') or \\\n",
        "                    (atom1.get_name() == 'CA' and atom2.get_name() == 'C'):\n",
        "                continue\n",
        "            distance = calculate_distance(atom1, atom2)\n",
        "            r1 = get_vdw_radius(atom1)\n",
        "            r2 = get_vdw_radius(atom2)\n",
        "            if distance <= (r1 + r2 - 0.4):\n",
        "                score += 1\n",
        "\n",
        "    clash_score_value = (score / num_atoms) * 1000\n",
        "    return clash_score_value\n",
        "\n",
        "structure_name = \"4ywo.pdb\"\n",
        "parser = PDBParser(QUIET=True)\n",
        "structure = parser.get_structure(structure_name, structure_name)\n",
        "score = clash_score(structure)\n",
        "print(f\"Clash Score: {score:.2f}\")"
      ],
      "metadata": {
        "colab": {
          "base_uri": "https://localhost:8080/"
        },
        "id": "g94M60li7maJ",
        "outputId": "db323290-5b46-4b38-b6f9-115cbe4db96d"
      },
      "execution_count": null,
      "outputs": [
        {
          "output_type": "stream",
          "name": "stdout",
          "text": [
            "Clash Score: 1.97\n"
          ]
        }
      ]
    }
  ]
}